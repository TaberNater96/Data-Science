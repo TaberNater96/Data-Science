{
 "cells": [
  {
   "cell_type": "markdown",
   "id": "d31362fa",
   "metadata": {},
   "source": [
    "<center><h1>PySpark - Web Crawler Analysis</h1></center>\n"
   ]
  },
  {
   "cell_type": "markdown",
   "id": "7d3f30bf",
   "metadata": {},
   "source": [
    "#### Analyzing Common Crawl Data with RDDs\n",
    "\n",
    "Here the session gets initialized in a new Spark Context where the domain graph is read in as an RDD."
   ]
  },
  {
   "cell_type": "code",
   "execution_count": 2,
   "id": "ee8d3ed8",
   "metadata": {},
   "outputs": [],
   "source": [
    "# Import required modules\n",
    "from pyspark.sql import SparkSession\n",
    "\n",
    "# Create a new SparkSession\n",
    "spark = SparkSession \\\n",
    "    .builder \\\n",
    "    .getOrCreate()\n",
    "\n",
    "# Get SparkContext\n",
    "sc = spark.sparkContext"
   ]
  },
  {
   "cell_type": "code",
   "execution_count": 3,
   "id": "a3ba7d85",
   "metadata": {},
   "outputs": [
    {
     "data": {
      "text/plain": [
       "['367855\\t172-in-addr\\tarpa\\t1',\n",
       " '367856\\taddr\\tarpa\\t1',\n",
       " '367857\\tamphic\\tarpa\\t1',\n",
       " '367858\\tbeta\\tarpa\\t1',\n",
       " '367859\\tcallic\\tarpa\\t1',\n",
       " '367860\\tch\\tarpa\\t1',\n",
       " '367861\\td\\tarpa\\t1',\n",
       " '367862\\thome\\tarpa\\t7',\n",
       " '367863\\tiana\\tarpa\\t1',\n",
       " '367907\\tlocal\\tarpa\\t1']"
      ]
     },
     "execution_count": 3,
     "metadata": {},
     "output_type": "execute_result"
    }
   ],
   "source": [
    "# Read Domains CSV File into an RDD\n",
    "common_crawl_domain_counts = sc.textFile('./crawl/cc-main-limited-domains.csv')\n",
    "\n",
    "# Display first few domains from the RDD\n",
    "common_crawl_domain_counts.take(10)"
   ]
  },
  {
   "cell_type": "markdown",
   "id": "8f18a601",
   "metadata": {},
   "source": [
    "Applies **fmt_domain_graph_entry** over **common_crawl_domain_counts** and saves the result as a new RDD named **formatted_host_counts**."
   ]
  },
  {
   "cell_type": "code",
   "execution_count": 4,
   "id": "7950d8d4",
   "metadata": {},
   "outputs": [],
   "source": [
    "def fmt_domain_graph_entry(entry):\n",
    "    \"\"\"\n",
    "    Formats a Common Crawl domain graph entry. Extracts the site_id, \n",
    "    top-level domain (tld), domain name, and subdomain count as seperate items.\n",
    "    \"\"\"\n",
    "\n",
    "    # Splits the entry on delimiter ('\\t') into site_id, domain, tld, and num_subdomains\n",
    "    site_id, domain, tld, num_subdomains = entry.split('\\t')        \n",
    "    return int(site_id), domain, tld, int(num_subdomains)"
   ]
  },
  {
   "cell_type": "code",
   "execution_count": 5,
   "id": "02f9ed9a",
   "metadata": {},
   "outputs": [
    {
     "data": {
      "text/plain": [
       "[(367855, '172-in-addr', 'arpa', 1),\n",
       " (367856, 'addr', 'arpa', 1),\n",
       " (367857, 'amphic', 'arpa', 1),\n",
       " (367858, 'beta', 'arpa', 1),\n",
       " (367859, 'callic', 'arpa', 1),\n",
       " (367860, 'ch', 'arpa', 1),\n",
       " (367861, 'd', 'arpa', 1),\n",
       " (367862, 'home', 'arpa', 7),\n",
       " (367863, 'iana', 'arpa', 1),\n",
       " (367907, 'local', 'arpa', 1)]"
      ]
     },
     "execution_count": 5,
     "metadata": {},
     "output_type": "execute_result"
    }
   ],
   "source": [
    "# Apply `fmt_domain_graph_entry` to the raw data RDD\n",
    "formatted_host_counts = common_crawl_domain_counts\\\n",
    "    .map(lambda e: fmt_domain_graph_entry(e))\n",
    "\n",
    "formatted_host_counts.take(10)"
   ]
  },
  {
   "cell_type": "code",
   "execution_count": 6,
   "id": "cfb75dca",
   "metadata": {},
   "outputs": [
    {
     "data": {
      "text/plain": [
       "[1, 1, 1, 1, 1, 1, 1, 7, 1, 1]"
      ]
     },
     "execution_count": 6,
     "metadata": {},
     "output_type": "execute_result"
    }
   ],
   "source": [
    "def extract_subdomain_counts(entry):\n",
    "    \"\"\"\n",
    "    Extract the subdomain count from a Common Crawl domain graph entry.\n",
    "    \"\"\"\n",
    "    \n",
    "    # Splits the entry on delimiter ('\\t') into site_id, domain, tld, and num_subdomains\n",
    "    site_id, domain, tld, num_subdomains = entry.split('\\t')\n",
    "    \n",
    "    # return ONLY the num_subdomains\n",
    "    return int(num_subdomains)\n",
    "\n",
    "\n",
    "# Applies `extract_subdomain_counts` to the raw data RDD\n",
    "host_counts = common_crawl_domain_counts\\\n",
    "    .map(lambda e: extract_subdomain_counts(e))\n",
    "\n",
    "host_counts.take(10)"
   ]
  },
  {
   "cell_type": "code",
   "execution_count": 7,
   "id": "aa284001",
   "metadata": {},
   "outputs": [
    {
     "data": {
      "text/plain": [
       "595466"
      ]
     },
     "execution_count": 7,
     "metadata": {},
     "output_type": "execute_result"
    }
   ],
   "source": [
    "# Reduce the RDD to a single value, the sum of subdomains, with a lambda function as the reduce function\n",
    "total_host_counts = host_counts\\\n",
    "    .reduce(lambda a, b: a + b)\n",
    "\n",
    "total_host_counts"
   ]
  },
  {
   "cell_type": "code",
   "execution_count": 8,
   "id": "562745d6",
   "metadata": {},
   "outputs": [],
   "source": [
    "# Stops the sparkContext and the SparkSession\n",
    "spark.stop()"
   ]
  },
  {
   "cell_type": "markdown",
   "id": "f129687d",
   "metadata": {},
   "source": [
    "## Exploring Domain Counts with PySpark DataFrames and SQL"
   ]
  },
  {
   "cell_type": "markdown",
   "id": "3c22e2b6",
   "metadata": {},
   "source": [
    "Let's create a new SparkSession and implement a sparkContext to read in a new Spark DataFrame named common_crawl."
   ]
  },
  {
   "cell_type": "code",
   "execution_count": 10,
   "id": "297084db",
   "metadata": {},
   "outputs": [
    {
     "name": "stdout",
     "output_type": "stream",
     "text": [
      "+------+-----------+----+---+\n",
      "|_c0   |_c1        |_c2 |_c3|\n",
      "+------+-----------+----+---+\n",
      "|367855|172-in-addr|arpa|1  |\n",
      "|367856|addr       |arpa|1  |\n",
      "|367857|amphic     |arpa|1  |\n",
      "|367858|beta       |arpa|1  |\n",
      "|367859|callic     |arpa|1  |\n",
      "+------+-----------+----+---+\n",
      "only showing top 5 rows\n",
      "\n"
     ]
    }
   ],
   "source": [
    "from pyspark.sql import SparkSession\n",
    "\n",
    "# Create a new SparkSession\n",
    "spark = SparkSession.builder.getOrCreate()\n",
    "sc = spark.sparkContext\n",
    "\n",
    "# Read in the target file into a DataFrame\n",
    "common_crawl = spark.read \\\n",
    "    .option('delimiter', '\\t') \\\n",
    "    .option('inferSchema', True) \\\n",
    "    .csv('./crawl/cc-main-limited-domains.csv')\n",
    "\n",
    "common_crawl.show(5, truncate=False)"
   ]
  },
  {
   "cell_type": "markdown",
   "id": "23082fd2",
   "metadata": {},
   "source": [
    "Let's rename the DataFrame's features to more context driven names."
   ]
  },
  {
   "cell_type": "code",
   "execution_count": 11,
   "id": "2f7b4ccc",
   "metadata": {},
   "outputs": [
    {
     "name": "stdout",
     "output_type": "stream",
     "text": [
      "+-------+-----------+----------------+--------------+\n",
      "|site_id|domain     |top_level_domain|num_subdomains|\n",
      "+-------+-----------+----------------+--------------+\n",
      "|367855 |172-in-addr|arpa            |1             |\n",
      "|367856 |addr       |arpa            |1             |\n",
      "|367857 |amphic     |arpa            |1             |\n",
      "|367858 |beta       |arpa            |1             |\n",
      "|367859 |callic     |arpa            |1             |\n",
      "+-------+-----------+----------------+--------------+\n",
      "only showing top 5 rows\n",
      "\n"
     ]
    }
   ],
   "source": [
    "# Rename the DataFrame's columns with `withColumnRenamed()`\n",
    "common_crawl = common_crawl\\\n",
    "    .withColumnRenamed('_c0', 'site_id')\\\n",
    "    .withColumnRenamed('_c1', 'domain')\\\n",
    "    .withColumnRenamed('_c2', 'top_level_domain')\\\n",
    "    .withColumnRenamed('_c3', 'num_subdomains')\\\n",
    "  \n",
    "common_crawl.show(5, truncate=False)"
   ]
  },
  {
   "cell_type": "markdown",
   "id": "ff524e08",
   "metadata": {},
   "source": [
    "## Reading and Writing Datasets to Disk"
   ]
  },
  {
   "cell_type": "code",
   "execution_count": 12,
   "id": "33be3162",
   "metadata": {},
   "outputs": [],
   "source": [
    "# Saves the `common_crawl` DataFrame to a series of parquet files\n",
    "common_crawl.write.parquet('./results/common_crawl/', mode='overwrite')"
   ]
  },
  {
   "cell_type": "markdown",
   "id": "25fbf8ff",
   "metadata": {},
   "source": [
    "Let's read in the parquet file to a new DataFrame to confirm the DataFrame was saved properly."
   ]
  },
  {
   "cell_type": "code",
   "execution_count": 13,
   "id": "a99ceb0a",
   "metadata": {},
   "outputs": [
    {
     "name": "stdout",
     "output_type": "stream",
     "text": [
      "+-------+-----------+----------------+--------------+\n",
      "|site_id|domain     |top_level_domain|num_subdomains|\n",
      "+-------+-----------+----------------+--------------+\n",
      "|367855 |172-in-addr|arpa            |1             |\n",
      "|367856 |addr       |arpa            |1             |\n",
      "|367857 |amphic     |arpa            |1             |\n",
      "|367858 |beta       |arpa            |1             |\n",
      "|367859 |callic     |arpa            |1             |\n",
      "+-------+-----------+----------------+--------------+\n",
      "only showing top 5 rows\n",
      "\n"
     ]
    }
   ],
   "source": [
    "# Read from parquet directory\n",
    "common_crawl_domains = spark.read\\\n",
    "    .parquet('./results/common_crawl/')\n",
    "\n",
    "common_crawl_domains.show(5, truncate=False)"
   ]
  },
  {
   "cell_type": "markdown",
   "id": "96f34ede",
   "metadata": {},
   "source": [
    "## Querying Domain Counts with PySpark DataFrames and SQL"
   ]
  },
  {
   "cell_type": "markdown",
   "id": "d71895cf",
   "metadata": {},
   "source": [
    "Let's create a local temporary view from common_crawl_domains."
   ]
  },
  {
   "cell_type": "code",
   "execution_count": 14,
   "id": "fdd04b0b",
   "metadata": {},
   "outputs": [],
   "source": [
    "# Creates a temporary view in the metadata for this SparkSession\n",
    "common_crawl_domains.createOrReplaceTempView('crawl')"
   ]
  },
  {
   "cell_type": "markdown",
   "id": "b5c2ef4f",
   "metadata": {},
   "source": [
    "Now to calculate the total number of domains for each top-level domain in the dataset."
   ]
  },
  {
   "cell_type": "code",
   "execution_count": 15,
   "id": "dae3e39e",
   "metadata": {},
   "outputs": [
    {
     "name": "stdout",
     "output_type": "stream",
     "text": [
      "+----------------+-----------------+\n",
      "|top_level_domain|total_top_domains|\n",
      "+----------------+-----------------+\n",
      "|edu             |18547            |\n",
      "|gov             |15007            |\n",
      "|travel          |6313             |\n",
      "|coop            |5319             |\n",
      "|jobs            |3893             |\n",
      "|post            |117              |\n",
      "|map             |34               |\n",
      "|arpa            |11               |\n",
      "+----------------+-----------------+\n",
      "\n"
     ]
    }
   ],
   "source": [
    "# Aggregates the DataFrame using SQL\n",
    "query = \"\"\"\n",
    "SELECT \n",
    "    top_level_domain, \n",
    "    COUNT(top_level_domain) AS total_top_domains\n",
    "FROM crawl\n",
    "GROUP BY 1\n",
    "ORDER BY 2 DESC\n",
    "\"\"\"\n",
    "spark.sql(query).show(truncate=False)"
   ]
  },
  {
   "cell_type": "code",
   "execution_count": 16,
   "id": "b4539ef8",
   "metadata": {},
   "outputs": [
    {
     "name": "stdout",
     "output_type": "stream",
     "text": [
      "+----------------+----------------+\n",
      "|top_level_domain|total_subdomains|\n",
      "+----------------+----------------+\n",
      "|edu             |484438          |\n",
      "|gov             |85354           |\n",
      "|travel          |10768           |\n",
      "|coop            |8683            |\n",
      "|jobs            |6023            |\n",
      "|post            |143             |\n",
      "|map             |40              |\n",
      "|arpa            |17              |\n",
      "+----------------+----------------+\n",
      "\n"
     ]
    }
   ],
   "source": [
    "# Aggregate the DataFrame using SQL\n",
    "query = \"\"\"\n",
    "SELECT \n",
    "    top_level_domain, \n",
    "    SUM(num_subdomains) AS total_subdomains\n",
    "FROM crawl\n",
    "GROUP BY 1\n",
    "ORDER BY 2 DESC\n",
    "\"\"\"\n",
    "spark.sql(query).show(truncate=False)"
   ]
  },
  {
   "cell_type": "markdown",
   "id": "8a2dfea3",
   "metadata": {},
   "source": [
    "Let's see how many sub-domains nps.gov has. We'll filter the dataset to that website's entry and display the columns \"top_level_domain\", \"domain\", and \"num_subdomains\"."
   ]
  },
  {
   "cell_type": "code",
   "execution_count": 17,
   "id": "c1746a9e",
   "metadata": {},
   "outputs": [
    {
     "name": "stdout",
     "output_type": "stream",
     "text": [
      "+------+----------------+--------------+\n",
      "|domain|top_level_domain|num_subdomains|\n",
      "+------+----------------+--------------+\n",
      "|nps   |gov             |178           |\n",
      "+------+----------------+--------------+\n",
      "\n"
     ]
    }
   ],
   "source": [
    "# Filter the DataFrame using SQL\n",
    "query = \"\"\"\n",
    "SELECT\n",
    "    domain,\n",
    "    top_level_domain,\n",
    "    num_subdomains\n",
    "FROM crawl\n",
    "WHERE top_level_domain == 'gov'\n",
    "AND domain == 'nps'\n",
    "\"\"\"\n",
    "\n",
    "spark.sql(query).show(truncate=False)"
   ]
  },
  {
   "cell_type": "markdown",
   "id": "7336d454",
   "metadata": {},
   "source": [
    "Finally, let's close the SparkSession and underlying sparkContext"
   ]
  },
  {
   "cell_type": "code",
   "execution_count": 18,
   "id": "e2233037",
   "metadata": {},
   "outputs": [],
   "source": [
    "# Stop the notebook's `SparkSession` and `sparkContext`\n",
    "spark.stop()"
   ]
  }
 ],
 "metadata": {
  "kernelspec": {
   "display_name": "Python 3 (ipykernel)",
   "language": "python",
   "name": "python3"
  },
  "language_info": {
   "codemirror_mode": {
    "name": "ipython",
    "version": 3
   },
   "file_extension": ".py",
   "mimetype": "text/x-python",
   "name": "python",
   "nbconvert_exporter": "python",
   "pygments_lexer": "ipython3",
   "version": "3.8.10"
  }
 },
 "nbformat": 4,
 "nbformat_minor": 5
}
