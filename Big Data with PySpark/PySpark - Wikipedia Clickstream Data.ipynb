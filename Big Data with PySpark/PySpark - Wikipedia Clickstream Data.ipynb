{
 "cells": [
  {
   "cell_type": "markdown",
   "id": "d8b84805",
   "metadata": {},
   "source": [
    "<center><h1>PySpark - Analyzing Wikipedia Clickstream Data</h1></center>\n",
    "\n",
    "This project is centered around showcasing how to use PySpark to analyze Wikipedia clickstream data. This notebook begins by showing users how to start a new PySpark session and guide them through creating a Resilient Distributed Dataset (RDD) from sample clickstream counts. This project involved hands-on data manipulation with a PySpark RDD that specifically focused on handling clickstream data to analyze traffic patterns on Wikipedia pages."
   ]
  },
  {
   "cell_type": "markdown",
   "id": "b2313603",
   "metadata": {},
   "source": [
    "## Starting PySpark with Clickstream Data"
   ]
  },
  {
   "cell_type": "markdown",
   "id": "291ad84f",
   "metadata": {},
   "source": [
    "Let's create a new `SparkSession` and assign it to a variable named `spark`."
   ]
  },
  {
   "cell_type": "code",
   "execution_count": 2,
   "id": "33467f42",
   "metadata": {},
   "outputs": [],
   "source": [
    "from pyspark.sql import SparkSession"
   ]
  },
  {
   "cell_type": "code",
   "execution_count": 3,
   "id": "13837f16",
   "metadata": {},
   "outputs": [],
   "source": [
    "# Create a new SparkSession\n",
    "spark = SparkSession.builder.getOrCreate()"
   ]
  },
  {
   "cell_type": "markdown",
   "id": "377fbbef",
   "metadata": {},
   "source": [
    "Now let's create an RDD from a list of sample clickstream counts and save it as `clickstream_counts_rdd`."
   ]
  },
  {
   "cell_type": "code",
   "execution_count": 4,
   "id": "92b1a38b",
   "metadata": {},
   "outputs": [],
   "source": [
    "# Sample clickstream counts\n",
    "sample_clickstream_counts = [\n",
    "    [\"other-search\", \"Hanging_Gardens_of_Babylon\", \"external\", 47000],\n",
    "    [\"other-empty\", \"Hanging_Gardens_of_Babylon\", \"external\", 34600],\n",
    "    [\"Wonders_of_the_World\", \"Hanging_Gardens_of_Babylon\", \"link\", 14000],\n",
    "    [\"Babylon\", \"Hanging_Gardens_of_Babylon\", \"link\", 2500]\n",
    "]\n",
    "\n",
    "# Create RDD from sample data\n",
    "clickstream_counts_rdd = spark.sparkContext\\\n",
    ".parallelize(sample_clickstream_counts)"
   ]
  },
  {
   "cell_type": "markdown",
   "id": "4ae6f0d2",
   "metadata": {},
   "source": [
    "Using the RDD from the previous step, let's create a DataFrame named `clickstream_sample_df`."
   ]
  },
  {
   "cell_type": "code",
   "execution_count": 5,
   "id": "12dd3ee7",
   "metadata": {},
   "outputs": [
    {
     "name": "stdout",
     "output_type": "stream",
     "text": [
      "+--------------------+--------------------------+-------------+----------+\n",
      "|source_page         |target_page               |link_category|link_count|\n",
      "+--------------------+--------------------------+-------------+----------+\n",
      "|other-search        |Hanging_Gardens_of_Babylon|external     |47000     |\n",
      "|other-empty         |Hanging_Gardens_of_Babylon|external     |34600     |\n",
      "|Wonders_of_the_World|Hanging_Gardens_of_Babylon|link         |14000     |\n",
      "|Babylon             |Hanging_Gardens_of_Babylon|link         |2500      |\n",
      "+--------------------+--------------------------+-------------+----------+\n",
      "\n"
     ]
    }
   ],
   "source": [
    "# Create a DataFrame from the RDD of sample clickstream counts\n",
    "clickstream_sample_df = clickstream_counts_rdd\\\n",
    ".toDF(['source_page', 'target_page', 'link_category', 'link_count'])\n",
    "\n",
    "# Now to display the DataFrame to the notebook\n",
    "clickstream_sample_df.show(truncate=False)"
   ]
  },
  {
   "cell_type": "markdown",
   "id": "1268c0b0",
   "metadata": {},
   "source": [
    "## Inspecting Clickstream Data"
   ]
  },
  {
   "cell_type": "markdown",
   "id": "1de43074",
   "metadata": {},
   "source": [
    "Let's read the files in `./cleaned/clickstream/` into a new Spark DataFrame named `clickstream` and display the first few rows of the DataFrame in the notebook to get a sense of the dataframe."
   ]
  },
  {
   "cell_type": "code",
   "execution_count": 6,
   "id": "b1e284f2",
   "metadata": {},
   "outputs": [
    {
     "name": "stdout",
     "output_type": "stream",
     "text": [
      "+-------------------+--------------------------+-------------+-------------+-----------+\n",
      "|referrer           |resource                  |link_category|language_code|click_count|\n",
      "+-------------------+--------------------------+-------------+-------------+-----------+\n",
      "|Daniel_Day-Lewis   |Phantom_Thread            |link         |en           |43190      |\n",
      "|other-internal     |Phantom_Thread            |external     |en           |21683      |\n",
      "|other-empty        |Phantom_Thread            |external     |en           |169532     |\n",
      "|90th_Academy_Awards|Phantom_Thread            |link         |en           |40449      |\n",
      "|other-search       |Phantom_Thread            |external     |en           |536940     |\n",
      "|other-search       |Tara_Grinstead_murder_case|external     |en           |30041      |\n",
      "|other-search       |Yossi_Benayoun            |external     |en           |11045      |\n",
      "|other-empty        |Parthiv_Patel             |external     |en           |11481      |\n",
      "|other-search       |Parthiv_Patel             |external     |en           |34953      |\n",
      "|other-empty        |Cosimo_de'_Medici         |external     |en           |16418      |\n",
      "+-------------------+--------------------------+-------------+-------------+-----------+\n",
      "only showing top 10 rows\n",
      "\n"
     ]
    }
   ],
   "source": [
    "# Read the target directory (`./cleaned/clickstream/`) into a DataFrame (`clickstream`)\n",
    "clickstream = spark.read\\\n",
    ".option('header', True)\\\n",
    ".option('delimiter', '\\t')\\\n",
    ".option('inferSchema', True)\\\n",
    ".csv('./cleaned/clickstream/')\n",
    "\n",
    "# Display the DataFrame to the notebook\n",
    "clickstream.show(10, truncate=False)"
   ]
  },
  {
   "cell_type": "markdown",
   "id": "bdeb6013",
   "metadata": {},
   "source": [
    "Now to print the schema of the DataFrame in the notebook."
   ]
  },
  {
   "cell_type": "code",
   "execution_count": 7,
   "id": "934cc169",
   "metadata": {},
   "outputs": [
    {
     "name": "stdout",
     "output_type": "stream",
     "text": [
      "root\n",
      " |-- referrer: string (nullable = true)\n",
      " |-- resource: string (nullable = true)\n",
      " |-- link_category: string (nullable = true)\n",
      " |-- language_code: string (nullable = true)\n",
      " |-- click_count: integer (nullable = true)\n",
      "\n"
     ]
    }
   ],
   "source": [
    "# Display the schema of the `clickstream` DataFrame to the notebook\n",
    "clickstream.printSchema()"
   ]
  },
  {
   "cell_type": "markdown",
   "id": "02f18366",
   "metadata": {},
   "source": [
    "Let's drop the `language_code` column from the DataFrame and see the new schema."
   ]
  },
  {
   "cell_type": "code",
   "execution_count": 8,
   "id": "17fa2a20",
   "metadata": {},
   "outputs": [
    {
     "name": "stdout",
     "output_type": "stream",
     "text": [
      "+-------------------+--------------+-------------+-----------+\n",
      "|referrer           |resource      |link_category|click_count|\n",
      "+-------------------+--------------+-------------+-----------+\n",
      "|Daniel_Day-Lewis   |Phantom_Thread|link         |43190      |\n",
      "|other-internal     |Phantom_Thread|external     |21683      |\n",
      "|other-empty        |Phantom_Thread|external     |169532     |\n",
      "|90th_Academy_Awards|Phantom_Thread|link         |40449      |\n",
      "|other-search       |Phantom_Thread|external     |536940     |\n",
      "+-------------------+--------------+-------------+-----------+\n",
      "only showing top 5 rows\n",
      "\n",
      "root\n",
      " |-- referrer: string (nullable = true)\n",
      " |-- resource: string (nullable = true)\n",
      " |-- link_category: string (nullable = true)\n",
      " |-- click_count: integer (nullable = true)\n",
      "\n"
     ]
    }
   ],
   "source": [
    "# Drop target columns\n",
    "clickstream = clickstream.drop('language_code')\n",
    "\n",
    "# Display the first few rows of the DataFrame\n",
    "clickstream.show(5, truncate=False)\n",
    "# Display the new schema in the notebook\n",
    "clickstream.printSchema()"
   ]
  },
  {
   "cell_type": "markdown",
   "id": "33ed64a3",
   "metadata": {},
   "source": [
    "Here we should rename `referrer` and `resource` to `source_page` and `target_page`, respectively."
   ]
  },
  {
   "cell_type": "code",
   "execution_count": 9,
   "id": "0b75baed",
   "metadata": {},
   "outputs": [
    {
     "name": "stdout",
     "output_type": "stream",
     "text": [
      "+-------------------+--------------+-------------+-----------+\n",
      "|source_page        |target_page   |link_category|click_count|\n",
      "+-------------------+--------------+-------------+-----------+\n",
      "|Daniel_Day-Lewis   |Phantom_Thread|link         |43190      |\n",
      "|other-internal     |Phantom_Thread|external     |21683      |\n",
      "|other-empty        |Phantom_Thread|external     |169532     |\n",
      "|90th_Academy_Awards|Phantom_Thread|link         |40449      |\n",
      "|other-search       |Phantom_Thread|external     |536940     |\n",
      "+-------------------+--------------+-------------+-----------+\n",
      "only showing top 5 rows\n",
      "\n",
      "root\n",
      " |-- source_page: string (nullable = true)\n",
      " |-- target_page: string (nullable = true)\n",
      " |-- link_category: string (nullable = true)\n",
      " |-- click_count: integer (nullable = true)\n",
      "\n"
     ]
    }
   ],
   "source": [
    "# Rename `referrer` and `resource` to `source_page` and `target_page`\n",
    "clickstream = clickstream\\\n",
    "    .withColumnRenamed('referrer', 'source_page')\\\n",
    "    .withColumnRenamed('resource', 'target_page') \n",
    "  \n",
    "# Display the first few rows of the DataFrame\n",
    "clickstream.show(5, truncate=False)\n",
    "# Display the new schema in the notebook\n",
    "clickstream.printSchema()"
   ]
  },
  {
   "cell_type": "markdown",
   "id": "572ce589",
   "metadata": {},
   "source": [
    "## Querying Clickstream Data"
   ]
  },
  {
   "cell_type": "markdown",
   "id": "2b8a031d",
   "metadata": {},
   "source": [
    "\n",
    "Let's add the `clickstream` DataFrame as a temporary view named `clickstream` to make the data queryable with `sparkSession.sql()`."
   ]
  },
  {
   "cell_type": "code",
   "execution_count": 10,
   "id": "f017bdd8",
   "metadata": {},
   "outputs": [],
   "source": [
    "# Create a temporary view in the metadata for this `SparkSession` to make the data queryable with `sparkSession.sql()`\n",
    "clickstream.createOrReplaceTempView(\"clickstream\")"
   ]
  },
  {
   "cell_type": "markdown",
   "id": "afd76c53",
   "metadata": {},
   "source": [
    "Not to filter the dataset to entries with `Hanging_Gardens_of_Babylon` as the `target_page` and order the result by `click_count` using PySpark DataFrame methods."
   ]
  },
  {
   "cell_type": "code",
   "execution_count": 11,
   "id": "6c20a4de",
   "metadata": {},
   "outputs": [
    {
     "name": "stdout",
     "output_type": "stream",
     "text": [
      "+----------------------------------+--------------------------+-------------+-----------+\n",
      "|source_page                       |target_page               |link_category|click_count|\n",
      "+----------------------------------+--------------------------+-------------+-----------+\n",
      "|other-search                      |Hanging_Gardens_of_Babylon|external     |47088      |\n",
      "|other-empty                       |Hanging_Gardens_of_Babylon|external     |34619      |\n",
      "|Wonders_of_the_World              |Hanging_Gardens_of_Babylon|link         |14668      |\n",
      "|Seven_Wonders_of_the_Ancient_World|Hanging_Gardens_of_Babylon|link         |12296      |\n",
      "+----------------------------------+--------------------------+-------------+-----------+\n",
      "\n"
     ]
    }
   ],
   "source": [
    "# Filter and sort the DataFrame using PySpark DataFrame methods\n",
    "clickstream\\\n",
    "    .filter(clickstream.target_page == 'Hanging_Gardens_of_Babylon')\\\n",
    "    .orderBy('click_count', ascending=False)\\\n",
    "    .show(5, truncate=False)"
   ]
  },
  {
   "cell_type": "markdown",
   "id": "f5426a56",
   "metadata": {},
   "source": [
    "Let's perform the same analysis as the previous exercise using a SQL query. "
   ]
  },
  {
   "cell_type": "code",
   "execution_count": 12,
   "id": "a49bbec6",
   "metadata": {
    "scrolled": true
   },
   "outputs": [
    {
     "name": "stdout",
     "output_type": "stream",
     "text": [
      "+----------------------------------+--------------------------+-------------+-----------+\n",
      "|source_page                       |target_page               |link_category|click_count|\n",
      "+----------------------------------+--------------------------+-------------+-----------+\n",
      "|other-search                      |Hanging_Gardens_of_Babylon|external     |47088      |\n",
      "|other-empty                       |Hanging_Gardens_of_Babylon|external     |34619      |\n",
      "|Wonders_of_the_World              |Hanging_Gardens_of_Babylon|link         |14668      |\n",
      "|Seven_Wonders_of_the_Ancient_World|Hanging_Gardens_of_Babylon|link         |12296      |\n",
      "+----------------------------------+--------------------------+-------------+-----------+\n",
      "\n"
     ]
    }
   ],
   "source": [
    "# Filter and sort the DataFrame using SQL\n",
    "query = \"\"\"\n",
    "SELECT *\n",
    "FROM clickstream\n",
    "WHERE clickstream.target_page == 'Hanging_Gardens_of_Babylon'\n",
    "ORDER BY click_count DESC\n",
    "\"\"\"\n",
    "\n",
    "spark.sql(query).show(truncate=False)"
   ]
  },
  {
   "cell_type": "markdown",
   "id": "0b4d53e9",
   "metadata": {},
   "source": [
    "Now to calculate the sum of `click_count` grouped by `link_category` using PySpark DataFrame methods."
   ]
  },
  {
   "cell_type": "code",
   "execution_count": 13,
   "id": "38bac86c",
   "metadata": {},
   "outputs": [
    {
     "name": "stdout",
     "output_type": "stream",
     "text": [
      "+-------------+----------------+\n",
      "|link_category|sum(click_count)|\n",
      "+-------------+----------------+\n",
      "|external     |3248677856      |\n",
      "|link         |97805811        |\n",
      "|other        |9338172         |\n",
      "+-------------+----------------+\n",
      "\n"
     ]
    }
   ],
   "source": [
    "# Aggregate the DataFrame using PySpark DataFrame Methods \n",
    "clickstream\\\n",
    "    .select(['link_category', 'click_count'])\\\n",
    "    .groupBy('link_category')\\\n",
    "    .sum() \\\n",
    "    .orderBy('sum(click_count)', ascending=False)\\\n",
    "    .show(5, truncate=False)"
   ]
  },
  {
   "cell_type": "code",
   "execution_count": 14,
   "id": "817ff99e",
   "metadata": {},
   "outputs": [
    {
     "name": "stdout",
     "output_type": "stream",
     "text": [
      "+-------------+-----------------+\n",
      "|link_category|total_click_count|\n",
      "+-------------+-----------------+\n",
      "|external     |3248677856       |\n",
      "|link         |97805811         |\n",
      "|other        |9338172          |\n",
      "+-------------+-----------------+\n",
      "\n"
     ]
    }
   ],
   "source": [
    "# Aggregate the DataFrame using SQL\n",
    "query = \"\"\"\n",
    "SELECT \n",
    "    link_category,\n",
    "    SUM(click_count) AS total_click_count\n",
    "FROM clickstream\n",
    "GROUP BY 1\n",
    "ORDER BY 2 DESC\n",
    "\"\"\"\n",
    "\n",
    "spark.sql(query).show(truncate=False)"
   ]
  },
  {
   "cell_type": "markdown",
   "id": "c8b756c1",
   "metadata": {},
   "source": [
    "## Saving Results to Disk"
   ]
  },
  {
   "cell_type": "markdown",
   "id": "79110ef5",
   "metadata": {},
   "source": [
    "Let's create a new DataFrame named `internal_clickstream` that only contains article pairs where `link_category` is `link`. We should use `filter()` here to select rows to a specific condition and `select()` to choose which columns to return from the query."
   ]
  },
  {
   "cell_type": "code",
   "execution_count": 20,
   "id": "29e74d43",
   "metadata": {},
   "outputs": [
    {
     "name": "stdout",
     "output_type": "stream",
     "text": [
      "+----------------------------+----------------------+-----------+\n",
      "|source_page                 |target_page           |click_count|\n",
      "+----------------------------+----------------------+-----------+\n",
      "|Daniel_Day-Lewis            |Phantom_Thread        |43190      |\n",
      "|90th_Academy_Awards         |Phantom_Thread        |40449      |\n",
      "|Shinee                      |Kim_Jong-hyun_(singer)|24433      |\n",
      "|Agnyaathavaasi              |Anu_Emmanuel          |15020      |\n",
      "|Naa_Peru_Surya              |Anu_Emmanuel          |12361      |\n",
      "|Mariah_Carey                |Nick_Cannon           |16214      |\n",
      "|Kesha                       |Rainbow_(Kesha_album) |11448      |\n",
      "|David_Attenborough          |John_Attenborough     |11252      |\n",
      "|Boney_M.                    |Bobby_Farrell         |14095      |\n",
      "|The_End_of_the_F***ing_World|Jessica_Barden        |237279     |\n",
      "+----------------------------+----------------------+-----------+\n",
      "only showing top 10 rows\n",
      "\n"
     ]
    }
   ],
   "source": [
    "# Create a new DataFrame (named `internal_clickstream`) using `filter` to select rows to a specific condition and \n",
    "# `select` to choose which columns to return from the query.\n",
    "internal_clickstream = clickstream\\\n",
    "    .select([\"source_page\", \"target_page\", \"click_count\"])\\\n",
    "    .filter(clickstream.link_category == 'link')\n",
    "\n",
    "# Display the first few rows of the DataFrame in the notebook\n",
    "internal_clickstream.show(10, truncate=False)"
   ]
  },
  {
   "cell_type": "markdown",
   "id": "45f45f94",
   "metadata": {},
   "source": [
    "Now using `DataFrame.write.csv()`, let's save the `internal_clickstream` DataFrame as CSV files in a directory called `./results/article_to_article_csv/`."
   ]
  },
  {
   "cell_type": "code",
   "execution_count": 21,
   "id": "93c015ca",
   "metadata": {},
   "outputs": [],
   "source": [
    "# Save the `internal_clickstream` DataFrame to a series of CSV files\n",
    "internal_clickstream\\\n",
    "    .write.csv('./results/article_to_article_csv/', mode=\"overwrite\")"
   ]
  },
  {
   "cell_type": "markdown",
   "id": "aa754d6b",
   "metadata": {},
   "source": [
    "Using `DataFrame.write.parquet()`, let's save the `internal_clickstream` DataFrame as parquet files in a directory called `./results/article_to_article_pq/`."
   ]
  },
  {
   "cell_type": "code",
   "execution_count": 23,
   "id": "3d542098",
   "metadata": {},
   "outputs": [],
   "source": [
    "# Save the `internal_clickstream` DataFrame to a series of parquet files\n",
    "internal_clickstream\\\n",
    ".write.parquet('./results/article_to_article_pq/', mode=\"overwrite\")"
   ]
  },
  {
   "cell_type": "markdown",
   "id": "01cbf22c",
   "metadata": {},
   "source": [
    "Great! Let's close the `SparkSession` and underlying `SparkContext` to wrap this up."
   ]
  },
  {
   "cell_type": "code",
   "execution_count": 26,
   "id": "55b2c378",
   "metadata": {},
   "outputs": [],
   "source": [
    "# Stop the notebook's `SparkSession` and `SparkContext`\n",
    "spark.stop()"
   ]
  }
 ],
 "metadata": {
  "kernelspec": {
   "display_name": "Python 3 (ipykernel)",
   "language": "python",
   "name": "python3"
  },
  "language_info": {
   "codemirror_mode": {
    "name": "ipython",
    "version": 3
   },
   "file_extension": ".py",
   "mimetype": "text/x-python",
   "name": "python",
   "nbconvert_exporter": "python",
   "pygments_lexer": "ipython3",
   "version": "3.8.10"
  }
 },
 "nbformat": 4,
 "nbformat_minor": 5
}
